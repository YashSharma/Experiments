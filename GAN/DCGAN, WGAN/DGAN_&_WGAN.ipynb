{
  "nbformat": 4,
  "nbformat_minor": 0,
  "metadata": {
    "colab": {
      "name": "DGAN & WGAN",
      "provenance": [],
      "collapsed_sections": []
    },
    "kernelspec": {
      "name": "python3",
      "display_name": "Python 3"
    },
    "accelerator": "GPU",
    "widgets": {
      "application/vnd.jupyter.widget-state+json": {
        "597b3ebb10dc4bdb99c00b75c844136d": {
          "model_module": "@jupyter-widgets/controls",
          "model_name": "HBoxModel",
          "state": {
            "_view_name": "HBoxView",
            "_dom_classes": [],
            "_model_name": "HBoxModel",
            "_view_module": "@jupyter-widgets/controls",
            "_model_module_version": "1.5.0",
            "_view_count": null,
            "_view_module_version": "1.5.0",
            "box_style": "",
            "layout": "IPY_MODEL_2667c17622a34e96ae64df45b6a4a6d1",
            "_model_module": "@jupyter-widgets/controls",
            "children": [
              "IPY_MODEL_047c87708ad542eca082b40184790fc6",
              "IPY_MODEL_aba5932b2c2448db8f2626570aa24e50"
            ]
          }
        },
        "2667c17622a34e96ae64df45b6a4a6d1": {
          "model_module": "@jupyter-widgets/base",
          "model_name": "LayoutModel",
          "state": {
            "_view_name": "LayoutView",
            "grid_template_rows": null,
            "right": null,
            "justify_content": null,
            "_view_module": "@jupyter-widgets/base",
            "overflow": null,
            "_model_module_version": "1.2.0",
            "_view_count": null,
            "flex_flow": null,
            "width": null,
            "min_width": null,
            "border": null,
            "align_items": null,
            "bottom": null,
            "_model_module": "@jupyter-widgets/base",
            "top": null,
            "grid_column": null,
            "overflow_y": null,
            "overflow_x": null,
            "grid_auto_flow": null,
            "grid_area": null,
            "grid_template_columns": null,
            "flex": null,
            "_model_name": "LayoutModel",
            "justify_items": null,
            "grid_row": null,
            "max_height": null,
            "align_content": null,
            "visibility": null,
            "align_self": null,
            "height": null,
            "min_height": null,
            "padding": null,
            "grid_auto_rows": null,
            "grid_gap": null,
            "max_width": null,
            "order": null,
            "_view_module_version": "1.2.0",
            "grid_template_areas": null,
            "object_position": null,
            "object_fit": null,
            "grid_auto_columns": null,
            "margin": null,
            "display": null,
            "left": null
          }
        },
        "047c87708ad542eca082b40184790fc6": {
          "model_module": "@jupyter-widgets/controls",
          "model_name": "FloatProgressModel",
          "state": {
            "_view_name": "ProgressView",
            "style": "IPY_MODEL_ca7fe9f2ab2e443b8faef73d556adc02",
            "_dom_classes": [],
            "description": "",
            "_model_name": "FloatProgressModel",
            "bar_style": "info",
            "max": 1,
            "_view_module": "@jupyter-widgets/controls",
            "_model_module_version": "1.5.0",
            "value": 1,
            "_view_count": null,
            "_view_module_version": "1.5.0",
            "orientation": "horizontal",
            "min": 0,
            "description_tooltip": null,
            "_model_module": "@jupyter-widgets/controls",
            "layout": "IPY_MODEL_f78ddc918e694cba94237ab61f6b2063"
          }
        },
        "aba5932b2c2448db8f2626570aa24e50": {
          "model_module": "@jupyter-widgets/controls",
          "model_name": "HTMLModel",
          "state": {
            "_view_name": "HTMLView",
            "style": "IPY_MODEL_a405ee9c347b43d0a5cbb9aa4066e38d",
            "_dom_classes": [],
            "description": "",
            "_model_name": "HTMLModel",
            "placeholder": "​",
            "_view_module": "@jupyter-widgets/controls",
            "_model_module_version": "1.5.0",
            "value": " 26427392/? [00:20&lt;00:00, 828241.82it/s]",
            "_view_count": null,
            "_view_module_version": "1.5.0",
            "description_tooltip": null,
            "_model_module": "@jupyter-widgets/controls",
            "layout": "IPY_MODEL_2c9141666740403c8cc992a7b46cce79"
          }
        },
        "ca7fe9f2ab2e443b8faef73d556adc02": {
          "model_module": "@jupyter-widgets/controls",
          "model_name": "ProgressStyleModel",
          "state": {
            "_view_name": "StyleView",
            "_model_name": "ProgressStyleModel",
            "description_width": "initial",
            "_view_module": "@jupyter-widgets/base",
            "_model_module_version": "1.5.0",
            "_view_count": null,
            "_view_module_version": "1.2.0",
            "bar_color": null,
            "_model_module": "@jupyter-widgets/controls"
          }
        },
        "f78ddc918e694cba94237ab61f6b2063": {
          "model_module": "@jupyter-widgets/base",
          "model_name": "LayoutModel",
          "state": {
            "_view_name": "LayoutView",
            "grid_template_rows": null,
            "right": null,
            "justify_content": null,
            "_view_module": "@jupyter-widgets/base",
            "overflow": null,
            "_model_module_version": "1.2.0",
            "_view_count": null,
            "flex_flow": null,
            "width": null,
            "min_width": null,
            "border": null,
            "align_items": null,
            "bottom": null,
            "_model_module": "@jupyter-widgets/base",
            "top": null,
            "grid_column": null,
            "overflow_y": null,
            "overflow_x": null,
            "grid_auto_flow": null,
            "grid_area": null,
            "grid_template_columns": null,
            "flex": null,
            "_model_name": "LayoutModel",
            "justify_items": null,
            "grid_row": null,
            "max_height": null,
            "align_content": null,
            "visibility": null,
            "align_self": null,
            "height": null,
            "min_height": null,
            "padding": null,
            "grid_auto_rows": null,
            "grid_gap": null,
            "max_width": null,
            "order": null,
            "_view_module_version": "1.2.0",
            "grid_template_areas": null,
            "object_position": null,
            "object_fit": null,
            "grid_auto_columns": null,
            "margin": null,
            "display": null,
            "left": null
          }
        },
        "a405ee9c347b43d0a5cbb9aa4066e38d": {
          "model_module": "@jupyter-widgets/controls",
          "model_name": "DescriptionStyleModel",
          "state": {
            "_view_name": "StyleView",
            "_model_name": "DescriptionStyleModel",
            "description_width": "",
            "_view_module": "@jupyter-widgets/base",
            "_model_module_version": "1.5.0",
            "_view_count": null,
            "_view_module_version": "1.2.0",
            "_model_module": "@jupyter-widgets/controls"
          }
        },
        "2c9141666740403c8cc992a7b46cce79": {
          "model_module": "@jupyter-widgets/base",
          "model_name": "LayoutModel",
          "state": {
            "_view_name": "LayoutView",
            "grid_template_rows": null,
            "right": null,
            "justify_content": null,
            "_view_module": "@jupyter-widgets/base",
            "overflow": null,
            "_model_module_version": "1.2.0",
            "_view_count": null,
            "flex_flow": null,
            "width": null,
            "min_width": null,
            "border": null,
            "align_items": null,
            "bottom": null,
            "_model_module": "@jupyter-widgets/base",
            "top": null,
            "grid_column": null,
            "overflow_y": null,
            "overflow_x": null,
            "grid_auto_flow": null,
            "grid_area": null,
            "grid_template_columns": null,
            "flex": null,
            "_model_name": "LayoutModel",
            "justify_items": null,
            "grid_row": null,
            "max_height": null,
            "align_content": null,
            "visibility": null,
            "align_self": null,
            "height": null,
            "min_height": null,
            "padding": null,
            "grid_auto_rows": null,
            "grid_gap": null,
            "max_width": null,
            "order": null,
            "_view_module_version": "1.2.0",
            "grid_template_areas": null,
            "object_position": null,
            "object_fit": null,
            "grid_auto_columns": null,
            "margin": null,
            "display": null,
            "left": null
          }
        },
        "644e8db3fd0f448d923e57fe6d1b5868": {
          "model_module": "@jupyter-widgets/controls",
          "model_name": "HBoxModel",
          "state": {
            "_view_name": "HBoxView",
            "_dom_classes": [],
            "_model_name": "HBoxModel",
            "_view_module": "@jupyter-widgets/controls",
            "_model_module_version": "1.5.0",
            "_view_count": null,
            "_view_module_version": "1.5.0",
            "box_style": "",
            "layout": "IPY_MODEL_5d922eb35b594eeb905c844e8eb1243d",
            "_model_module": "@jupyter-widgets/controls",
            "children": [
              "IPY_MODEL_a4e97ff5f9c5435ba59bca0884a75baf",
              "IPY_MODEL_9e9f6b6a6c1f447193c279f132e10530"
            ]
          }
        },
        "5d922eb35b594eeb905c844e8eb1243d": {
          "model_module": "@jupyter-widgets/base",
          "model_name": "LayoutModel",
          "state": {
            "_view_name": "LayoutView",
            "grid_template_rows": null,
            "right": null,
            "justify_content": null,
            "_view_module": "@jupyter-widgets/base",
            "overflow": null,
            "_model_module_version": "1.2.0",
            "_view_count": null,
            "flex_flow": null,
            "width": null,
            "min_width": null,
            "border": null,
            "align_items": null,
            "bottom": null,
            "_model_module": "@jupyter-widgets/base",
            "top": null,
            "grid_column": null,
            "overflow_y": null,
            "overflow_x": null,
            "grid_auto_flow": null,
            "grid_area": null,
            "grid_template_columns": null,
            "flex": null,
            "_model_name": "LayoutModel",
            "justify_items": null,
            "grid_row": null,
            "max_height": null,
            "align_content": null,
            "visibility": null,
            "align_self": null,
            "height": null,
            "min_height": null,
            "padding": null,
            "grid_auto_rows": null,
            "grid_gap": null,
            "max_width": null,
            "order": null,
            "_view_module_version": "1.2.0",
            "grid_template_areas": null,
            "object_position": null,
            "object_fit": null,
            "grid_auto_columns": null,
            "margin": null,
            "display": null,
            "left": null
          }
        },
        "a4e97ff5f9c5435ba59bca0884a75baf": {
          "model_module": "@jupyter-widgets/controls",
          "model_name": "FloatProgressModel",
          "state": {
            "_view_name": "ProgressView",
            "style": "IPY_MODEL_8b4f0b6588d34e888fec9f392d957aea",
            "_dom_classes": [],
            "description": "",
            "_model_name": "FloatProgressModel",
            "bar_style": "success",
            "max": 1,
            "_view_module": "@jupyter-widgets/controls",
            "_model_module_version": "1.5.0",
            "value": 1,
            "_view_count": null,
            "_view_module_version": "1.5.0",
            "orientation": "horizontal",
            "min": 0,
            "description_tooltip": null,
            "_model_module": "@jupyter-widgets/controls",
            "layout": "IPY_MODEL_651c669307194a89b305c068a646c107"
          }
        },
        "9e9f6b6a6c1f447193c279f132e10530": {
          "model_module": "@jupyter-widgets/controls",
          "model_name": "HTMLModel",
          "state": {
            "_view_name": "HTMLView",
            "style": "IPY_MODEL_da6a228e68fb4179a80b580e4d72ec39",
            "_dom_classes": [],
            "description": "",
            "_model_name": "HTMLModel",
            "placeholder": "​",
            "_view_module": "@jupyter-widgets/controls",
            "_model_module_version": "1.5.0",
            "value": " 32768/? [00:00&lt;00:00, 108336.00it/s]",
            "_view_count": null,
            "_view_module_version": "1.5.0",
            "description_tooltip": null,
            "_model_module": "@jupyter-widgets/controls",
            "layout": "IPY_MODEL_b05e08e8f6da498ea4a35f87f7ab48c6"
          }
        },
        "8b4f0b6588d34e888fec9f392d957aea": {
          "model_module": "@jupyter-widgets/controls",
          "model_name": "ProgressStyleModel",
          "state": {
            "_view_name": "StyleView",
            "_model_name": "ProgressStyleModel",
            "description_width": "initial",
            "_view_module": "@jupyter-widgets/base",
            "_model_module_version": "1.5.0",
            "_view_count": null,
            "_view_module_version": "1.2.0",
            "bar_color": null,
            "_model_module": "@jupyter-widgets/controls"
          }
        },
        "651c669307194a89b305c068a646c107": {
          "model_module": "@jupyter-widgets/base",
          "model_name": "LayoutModel",
          "state": {
            "_view_name": "LayoutView",
            "grid_template_rows": null,
            "right": null,
            "justify_content": null,
            "_view_module": "@jupyter-widgets/base",
            "overflow": null,
            "_model_module_version": "1.2.0",
            "_view_count": null,
            "flex_flow": null,
            "width": null,
            "min_width": null,
            "border": null,
            "align_items": null,
            "bottom": null,
            "_model_module": "@jupyter-widgets/base",
            "top": null,
            "grid_column": null,
            "overflow_y": null,
            "overflow_x": null,
            "grid_auto_flow": null,
            "grid_area": null,
            "grid_template_columns": null,
            "flex": null,
            "_model_name": "LayoutModel",
            "justify_items": null,
            "grid_row": null,
            "max_height": null,
            "align_content": null,
            "visibility": null,
            "align_self": null,
            "height": null,
            "min_height": null,
            "padding": null,
            "grid_auto_rows": null,
            "grid_gap": null,
            "max_width": null,
            "order": null,
            "_view_module_version": "1.2.0",
            "grid_template_areas": null,
            "object_position": null,
            "object_fit": null,
            "grid_auto_columns": null,
            "margin": null,
            "display": null,
            "left": null
          }
        },
        "da6a228e68fb4179a80b580e4d72ec39": {
          "model_module": "@jupyter-widgets/controls",
          "model_name": "DescriptionStyleModel",
          "state": {
            "_view_name": "StyleView",
            "_model_name": "DescriptionStyleModel",
            "description_width": "",
            "_view_module": "@jupyter-widgets/base",
            "_model_module_version": "1.5.0",
            "_view_count": null,
            "_view_module_version": "1.2.0",
            "_model_module": "@jupyter-widgets/controls"
          }
        },
        "b05e08e8f6da498ea4a35f87f7ab48c6": {
          "model_module": "@jupyter-widgets/base",
          "model_name": "LayoutModel",
          "state": {
            "_view_name": "LayoutView",
            "grid_template_rows": null,
            "right": null,
            "justify_content": null,
            "_view_module": "@jupyter-widgets/base",
            "overflow": null,
            "_model_module_version": "1.2.0",
            "_view_count": null,
            "flex_flow": null,
            "width": null,
            "min_width": null,
            "border": null,
            "align_items": null,
            "bottom": null,
            "_model_module": "@jupyter-widgets/base",
            "top": null,
            "grid_column": null,
            "overflow_y": null,
            "overflow_x": null,
            "grid_auto_flow": null,
            "grid_area": null,
            "grid_template_columns": null,
            "flex": null,
            "_model_name": "LayoutModel",
            "justify_items": null,
            "grid_row": null,
            "max_height": null,
            "align_content": null,
            "visibility": null,
            "align_self": null,
            "height": null,
            "min_height": null,
            "padding": null,
            "grid_auto_rows": null,
            "grid_gap": null,
            "max_width": null,
            "order": null,
            "_view_module_version": "1.2.0",
            "grid_template_areas": null,
            "object_position": null,
            "object_fit": null,
            "grid_auto_columns": null,
            "margin": null,
            "display": null,
            "left": null
          }
        },
        "dd0986dbef1d4269807f147ea145cb52": {
          "model_module": "@jupyter-widgets/controls",
          "model_name": "HBoxModel",
          "state": {
            "_view_name": "HBoxView",
            "_dom_classes": [],
            "_model_name": "HBoxModel",
            "_view_module": "@jupyter-widgets/controls",
            "_model_module_version": "1.5.0",
            "_view_count": null,
            "_view_module_version": "1.5.0",
            "box_style": "",
            "layout": "IPY_MODEL_80fe6a2c34cc43cfa02a81404834bf6a",
            "_model_module": "@jupyter-widgets/controls",
            "children": [
              "IPY_MODEL_b29cdb1f62ee4883b908c943fe9a0185",
              "IPY_MODEL_cc69c05ee4fb4d65badfd84cb303dca7"
            ]
          }
        },
        "80fe6a2c34cc43cfa02a81404834bf6a": {
          "model_module": "@jupyter-widgets/base",
          "model_name": "LayoutModel",
          "state": {
            "_view_name": "LayoutView",
            "grid_template_rows": null,
            "right": null,
            "justify_content": null,
            "_view_module": "@jupyter-widgets/base",
            "overflow": null,
            "_model_module_version": "1.2.0",
            "_view_count": null,
            "flex_flow": null,
            "width": null,
            "min_width": null,
            "border": null,
            "align_items": null,
            "bottom": null,
            "_model_module": "@jupyter-widgets/base",
            "top": null,
            "grid_column": null,
            "overflow_y": null,
            "overflow_x": null,
            "grid_auto_flow": null,
            "grid_area": null,
            "grid_template_columns": null,
            "flex": null,
            "_model_name": "LayoutModel",
            "justify_items": null,
            "grid_row": null,
            "max_height": null,
            "align_content": null,
            "visibility": null,
            "align_self": null,
            "height": null,
            "min_height": null,
            "padding": null,
            "grid_auto_rows": null,
            "grid_gap": null,
            "max_width": null,
            "order": null,
            "_view_module_version": "1.2.0",
            "grid_template_areas": null,
            "object_position": null,
            "object_fit": null,
            "grid_auto_columns": null,
            "margin": null,
            "display": null,
            "left": null
          }
        },
        "b29cdb1f62ee4883b908c943fe9a0185": {
          "model_module": "@jupyter-widgets/controls",
          "model_name": "FloatProgressModel",
          "state": {
            "_view_name": "ProgressView",
            "style": "IPY_MODEL_679c26c17c40408792a32eaada4f902e",
            "_dom_classes": [],
            "description": "",
            "_model_name": "FloatProgressModel",
            "bar_style": "success",
            "max": 1,
            "_view_module": "@jupyter-widgets/controls",
            "_model_module_version": "1.5.0",
            "value": 1,
            "_view_count": null,
            "_view_module_version": "1.5.0",
            "orientation": "horizontal",
            "min": 0,
            "description_tooltip": null,
            "_model_module": "@jupyter-widgets/controls",
            "layout": "IPY_MODEL_ff12cd16b36e459cbdec82cc09b9f3bd"
          }
        },
        "cc69c05ee4fb4d65badfd84cb303dca7": {
          "model_module": "@jupyter-widgets/controls",
          "model_name": "HTMLModel",
          "state": {
            "_view_name": "HTMLView",
            "style": "IPY_MODEL_cdd3df921b5e48978d62d928d76d2318",
            "_dom_classes": [],
            "description": "",
            "_model_name": "HTMLModel",
            "placeholder": "​",
            "_view_module": "@jupyter-widgets/controls",
            "_model_module_version": "1.5.0",
            "value": " 4423680/? [00:00&lt;00:00, 20175413.74it/s]",
            "_view_count": null,
            "_view_module_version": "1.5.0",
            "description_tooltip": null,
            "_model_module": "@jupyter-widgets/controls",
            "layout": "IPY_MODEL_c50b6ab9b1f24176acbd104d7ae969c7"
          }
        },
        "679c26c17c40408792a32eaada4f902e": {
          "model_module": "@jupyter-widgets/controls",
          "model_name": "ProgressStyleModel",
          "state": {
            "_view_name": "StyleView",
            "_model_name": "ProgressStyleModel",
            "description_width": "initial",
            "_view_module": "@jupyter-widgets/base",
            "_model_module_version": "1.5.0",
            "_view_count": null,
            "_view_module_version": "1.2.0",
            "bar_color": null,
            "_model_module": "@jupyter-widgets/controls"
          }
        },
        "ff12cd16b36e459cbdec82cc09b9f3bd": {
          "model_module": "@jupyter-widgets/base",
          "model_name": "LayoutModel",
          "state": {
            "_view_name": "LayoutView",
            "grid_template_rows": null,
            "right": null,
            "justify_content": null,
            "_view_module": "@jupyter-widgets/base",
            "overflow": null,
            "_model_module_version": "1.2.0",
            "_view_count": null,
            "flex_flow": null,
            "width": null,
            "min_width": null,
            "border": null,
            "align_items": null,
            "bottom": null,
            "_model_module": "@jupyter-widgets/base",
            "top": null,
            "grid_column": null,
            "overflow_y": null,
            "overflow_x": null,
            "grid_auto_flow": null,
            "grid_area": null,
            "grid_template_columns": null,
            "flex": null,
            "_model_name": "LayoutModel",
            "justify_items": null,
            "grid_row": null,
            "max_height": null,
            "align_content": null,
            "visibility": null,
            "align_self": null,
            "height": null,
            "min_height": null,
            "padding": null,
            "grid_auto_rows": null,
            "grid_gap": null,
            "max_width": null,
            "order": null,
            "_view_module_version": "1.2.0",
            "grid_template_areas": null,
            "object_position": null,
            "object_fit": null,
            "grid_auto_columns": null,
            "margin": null,
            "display": null,
            "left": null
          }
        },
        "cdd3df921b5e48978d62d928d76d2318": {
          "model_module": "@jupyter-widgets/controls",
          "model_name": "DescriptionStyleModel",
          "state": {
            "_view_name": "StyleView",
            "_model_name": "DescriptionStyleModel",
            "description_width": "",
            "_view_module": "@jupyter-widgets/base",
            "_model_module_version": "1.5.0",
            "_view_count": null,
            "_view_module_version": "1.2.0",
            "_model_module": "@jupyter-widgets/controls"
          }
        },
        "c50b6ab9b1f24176acbd104d7ae969c7": {
          "model_module": "@jupyter-widgets/base",
          "model_name": "LayoutModel",
          "state": {
            "_view_name": "LayoutView",
            "grid_template_rows": null,
            "right": null,
            "justify_content": null,
            "_view_module": "@jupyter-widgets/base",
            "overflow": null,
            "_model_module_version": "1.2.0",
            "_view_count": null,
            "flex_flow": null,
            "width": null,
            "min_width": null,
            "border": null,
            "align_items": null,
            "bottom": null,
            "_model_module": "@jupyter-widgets/base",
            "top": null,
            "grid_column": null,
            "overflow_y": null,
            "overflow_x": null,
            "grid_auto_flow": null,
            "grid_area": null,
            "grid_template_columns": null,
            "flex": null,
            "_model_name": "LayoutModel",
            "justify_items": null,
            "grid_row": null,
            "max_height": null,
            "align_content": null,
            "visibility": null,
            "align_self": null,
            "height": null,
            "min_height": null,
            "padding": null,
            "grid_auto_rows": null,
            "grid_gap": null,
            "max_width": null,
            "order": null,
            "_view_module_version": "1.2.0",
            "grid_template_areas": null,
            "object_position": null,
            "object_fit": null,
            "grid_auto_columns": null,
            "margin": null,
            "display": null,
            "left": null
          }
        },
        "82aa375bc515498a91d9a787682f1575": {
          "model_module": "@jupyter-widgets/controls",
          "model_name": "HBoxModel",
          "state": {
            "_view_name": "HBoxView",
            "_dom_classes": [],
            "_model_name": "HBoxModel",
            "_view_module": "@jupyter-widgets/controls",
            "_model_module_version": "1.5.0",
            "_view_count": null,
            "_view_module_version": "1.5.0",
            "box_style": "",
            "layout": "IPY_MODEL_784f2103e6df411c9aadb74fbe17d71c",
            "_model_module": "@jupyter-widgets/controls",
            "children": [
              "IPY_MODEL_a0b37843ddf647ebb0985ce44e832da8",
              "IPY_MODEL_59cc601d1a7a4bfcb770e772a0c27bfd"
            ]
          }
        },
        "784f2103e6df411c9aadb74fbe17d71c": {
          "model_module": "@jupyter-widgets/base",
          "model_name": "LayoutModel",
          "state": {
            "_view_name": "LayoutView",
            "grid_template_rows": null,
            "right": null,
            "justify_content": null,
            "_view_module": "@jupyter-widgets/base",
            "overflow": null,
            "_model_module_version": "1.2.0",
            "_view_count": null,
            "flex_flow": null,
            "width": null,
            "min_width": null,
            "border": null,
            "align_items": null,
            "bottom": null,
            "_model_module": "@jupyter-widgets/base",
            "top": null,
            "grid_column": null,
            "overflow_y": null,
            "overflow_x": null,
            "grid_auto_flow": null,
            "grid_area": null,
            "grid_template_columns": null,
            "flex": null,
            "_model_name": "LayoutModel",
            "justify_items": null,
            "grid_row": null,
            "max_height": null,
            "align_content": null,
            "visibility": null,
            "align_self": null,
            "height": null,
            "min_height": null,
            "padding": null,
            "grid_auto_rows": null,
            "grid_gap": null,
            "max_width": null,
            "order": null,
            "_view_module_version": "1.2.0",
            "grid_template_areas": null,
            "object_position": null,
            "object_fit": null,
            "grid_auto_columns": null,
            "margin": null,
            "display": null,
            "left": null
          }
        },
        "a0b37843ddf647ebb0985ce44e832da8": {
          "model_module": "@jupyter-widgets/controls",
          "model_name": "FloatProgressModel",
          "state": {
            "_view_name": "ProgressView",
            "style": "IPY_MODEL_051bef5ac6834774b4340ad5c0eb5b19",
            "_dom_classes": [],
            "description": "",
            "_model_name": "FloatProgressModel",
            "bar_style": "info",
            "max": 1,
            "_view_module": "@jupyter-widgets/controls",
            "_model_module_version": "1.5.0",
            "value": 0,
            "_view_count": null,
            "_view_module_version": "1.5.0",
            "orientation": "horizontal",
            "min": 0,
            "description_tooltip": null,
            "_model_module": "@jupyter-widgets/controls",
            "layout": "IPY_MODEL_a67e3312e0df49048f7fead7abd574a6"
          }
        },
        "59cc601d1a7a4bfcb770e772a0c27bfd": {
          "model_module": "@jupyter-widgets/controls",
          "model_name": "HTMLModel",
          "state": {
            "_view_name": "HTMLView",
            "style": "IPY_MODEL_d735ec537abc4cc1bced668f8b14a809",
            "_dom_classes": [],
            "description": "",
            "_model_name": "HTMLModel",
            "placeholder": "​",
            "_view_module": "@jupyter-widgets/controls",
            "_model_module_version": "1.5.0",
            "value": " 0/? [00:00&lt;?, ?it/s]",
            "_view_count": null,
            "_view_module_version": "1.5.0",
            "description_tooltip": null,
            "_model_module": "@jupyter-widgets/controls",
            "layout": "IPY_MODEL_b55c16e6766a4a95a47cf6daab805802"
          }
        },
        "051bef5ac6834774b4340ad5c0eb5b19": {
          "model_module": "@jupyter-widgets/controls",
          "model_name": "ProgressStyleModel",
          "state": {
            "_view_name": "StyleView",
            "_model_name": "ProgressStyleModel",
            "description_width": "initial",
            "_view_module": "@jupyter-widgets/base",
            "_model_module_version": "1.5.0",
            "_view_count": null,
            "_view_module_version": "1.2.0",
            "bar_color": null,
            "_model_module": "@jupyter-widgets/controls"
          }
        },
        "a67e3312e0df49048f7fead7abd574a6": {
          "model_module": "@jupyter-widgets/base",
          "model_name": "LayoutModel",
          "state": {
            "_view_name": "LayoutView",
            "grid_template_rows": null,
            "right": null,
            "justify_content": null,
            "_view_module": "@jupyter-widgets/base",
            "overflow": null,
            "_model_module_version": "1.2.0",
            "_view_count": null,
            "flex_flow": null,
            "width": null,
            "min_width": null,
            "border": null,
            "align_items": null,
            "bottom": null,
            "_model_module": "@jupyter-widgets/base",
            "top": null,
            "grid_column": null,
            "overflow_y": null,
            "overflow_x": null,
            "grid_auto_flow": null,
            "grid_area": null,
            "grid_template_columns": null,
            "flex": null,
            "_model_name": "LayoutModel",
            "justify_items": null,
            "grid_row": null,
            "max_height": null,
            "align_content": null,
            "visibility": null,
            "align_self": null,
            "height": null,
            "min_height": null,
            "padding": null,
            "grid_auto_rows": null,
            "grid_gap": null,
            "max_width": null,
            "order": null,
            "_view_module_version": "1.2.0",
            "grid_template_areas": null,
            "object_position": null,
            "object_fit": null,
            "grid_auto_columns": null,
            "margin": null,
            "display": null,
            "left": null
          }
        },
        "d735ec537abc4cc1bced668f8b14a809": {
          "model_module": "@jupyter-widgets/controls",
          "model_name": "DescriptionStyleModel",
          "state": {
            "_view_name": "StyleView",
            "_model_name": "DescriptionStyleModel",
            "description_width": "",
            "_view_module": "@jupyter-widgets/base",
            "_model_module_version": "1.5.0",
            "_view_count": null,
            "_view_module_version": "1.2.0",
            "_model_module": "@jupyter-widgets/controls"
          }
        },
        "b55c16e6766a4a95a47cf6daab805802": {
          "model_module": "@jupyter-widgets/base",
          "model_name": "LayoutModel",
          "state": {
            "_view_name": "LayoutView",
            "grid_template_rows": null,
            "right": null,
            "justify_content": null,
            "_view_module": "@jupyter-widgets/base",
            "overflow": null,
            "_model_module_version": "1.2.0",
            "_view_count": null,
            "flex_flow": null,
            "width": null,
            "min_width": null,
            "border": null,
            "align_items": null,
            "bottom": null,
            "_model_module": "@jupyter-widgets/base",
            "top": null,
            "grid_column": null,
            "overflow_y": null,
            "overflow_x": null,
            "grid_auto_flow": null,
            "grid_area": null,
            "grid_template_columns": null,
            "flex": null,
            "_model_name": "LayoutModel",
            "justify_items": null,
            "grid_row": null,
            "max_height": null,
            "align_content": null,
            "visibility": null,
            "align_self": null,
            "height": null,
            "min_height": null,
            "padding": null,
            "grid_auto_rows": null,
            "grid_gap": null,
            "max_width": null,
            "order": null,
            "_view_module_version": "1.2.0",
            "grid_template_areas": null,
            "object_position": null,
            "object_fit": null,
            "grid_auto_columns": null,
            "margin": null,
            "display": null,
            "left": null
          }
        }
      }
    }
  },
  "cells": [
    {
      "cell_type": "markdown",
      "metadata": {
        "id": "F16OokmHYlAZ",
        "colab_type": "text"
      },
      "source": [
        "Understanding DCGAN and WGAN\n",
        "\n",
        "References:\n",
        " - https://pytorch.org/tutorials/beginner/dcgan_faces_tutorial.html\n",
        " - https://github.com/Zeleni9/pytorch-wgan"
      ]
    },
    {
      "cell_type": "code",
      "metadata": {
        "id": "7eucijwPcnMo",
        "colab_type": "code",
        "outputId": "4744194e-367d-4565-916e-f804f3231b9f",
        "colab": {
          "base_uri": "https://localhost:8080/",
          "height": 51
        }
      },
      "source": [
        "from __future__ import print_function\n",
        "#%matplotlib inline\n",
        "import argparse\n",
        "import os\n",
        "import random\n",
        "import torch\n",
        "import torch.nn as nn\n",
        "import torch.nn.parallel\n",
        "import torchvision\n",
        "import torch.backends.cudnn as cudnn\n",
        "import torch.optim as optim\n",
        "import torch.utils.data\n",
        "import torchvision.datasets as dset\n",
        "import torchvision.transforms as transforms\n",
        "import torchvision.utils as vutils\n",
        "import numpy as np\n",
        "import matplotlib.pyplot as plt\n",
        "import matplotlib.animation as animation\n",
        "from IPython.display import HTML\n",
        "from torchvision import utils\n",
        "from torch.autograd import Variable\n",
        "\n",
        "# Set random seed for reproducibility\n",
        "manualSeed = 999\n",
        "print(\"Random Seed: \", manualSeed)\n",
        "random.seed(manualSeed)\n",
        "torch.manual_seed(manualSeed)"
      ],
      "execution_count": 0,
      "outputs": [
        {
          "output_type": "stream",
          "text": [
            "Random Seed:  999\n"
          ],
          "name": "stdout"
        },
        {
          "output_type": "execute_result",
          "data": {
            "text/plain": [
              "<torch._C.Generator at 0x7f7d8cf44e10>"
            ]
          },
          "metadata": {
            "tags": []
          },
          "execution_count": 6
        }
      ]
    },
    {
      "cell_type": "code",
      "metadata": {
        "id": "nxiOSRPHeikf",
        "colab_type": "code",
        "colab": {}
      },
      "source": [
        "# Number of workers for dataloader\n",
        "workers = 4\n",
        "\n",
        "# Batch size during training\n",
        "batch_size = 64\n",
        "\n",
        "# Number of training epochs\n",
        "num_epochs = 10\n",
        "\n",
        "# Number of GPUs\n",
        "ngpu = 1"
      ],
      "execution_count": 0,
      "outputs": []
    },
    {
      "cell_type": "code",
      "metadata": {
        "id": "Na8pEfXofOsC",
        "colab_type": "code",
        "outputId": "b1182d27-9aae-4688-ca8b-199ac97031b5",
        "colab": {
          "base_uri": "https://localhost:8080/",
          "height": 386,
          "referenced_widgets": [
            "597b3ebb10dc4bdb99c00b75c844136d",
            "2667c17622a34e96ae64df45b6a4a6d1",
            "047c87708ad542eca082b40184790fc6",
            "aba5932b2c2448db8f2626570aa24e50",
            "ca7fe9f2ab2e443b8faef73d556adc02",
            "f78ddc918e694cba94237ab61f6b2063",
            "a405ee9c347b43d0a5cbb9aa4066e38d",
            "2c9141666740403c8cc992a7b46cce79",
            "644e8db3fd0f448d923e57fe6d1b5868",
            "5d922eb35b594eeb905c844e8eb1243d",
            "a4e97ff5f9c5435ba59bca0884a75baf",
            "9e9f6b6a6c1f447193c279f132e10530",
            "8b4f0b6588d34e888fec9f392d957aea",
            "651c669307194a89b305c068a646c107",
            "da6a228e68fb4179a80b580e4d72ec39",
            "b05e08e8f6da498ea4a35f87f7ab48c6",
            "dd0986dbef1d4269807f147ea145cb52",
            "80fe6a2c34cc43cfa02a81404834bf6a",
            "b29cdb1f62ee4883b908c943fe9a0185",
            "cc69c05ee4fb4d65badfd84cb303dca7",
            "679c26c17c40408792a32eaada4f902e",
            "ff12cd16b36e459cbdec82cc09b9f3bd",
            "cdd3df921b5e48978d62d928d76d2318",
            "c50b6ab9b1f24176acbd104d7ae969c7",
            "82aa375bc515498a91d9a787682f1575",
            "784f2103e6df411c9aadb74fbe17d71c",
            "a0b37843ddf647ebb0985ce44e832da8",
            "59cc601d1a7a4bfcb770e772a0c27bfd",
            "051bef5ac6834774b4340ad5c0eb5b19",
            "a67e3312e0df49048f7fead7abd574a6",
            "d735ec537abc4cc1bced668f8b14a809",
            "b55c16e6766a4a95a47cf6daab805802"
          ]
        }
      },
      "source": [
        "# Load Data - Used Fashion MNIST for experiments\n",
        "\n",
        "fashion_mnist = torchvision.datasets.FashionMNIST(\n",
        "    root = '../content/FashionMNIST',\n",
        "    train = True,\n",
        "    download = True,\n",
        "    transform = transforms.Compose([\n",
        "        transforms.Resize(32),\n",
        "        transforms.ToTensor(),\n",
        "        transforms.Normalize((0.5),(0.5)),\n",
        "    ])\n",
        ")\n",
        "\n",
        "dataloader = torch.utils.data.DataLoader(fashion_mnist,\n",
        "                                          batch_size = batch_size,\n",
        "                                          shuffle = True,\n",
        "                                          num_workers = workers)\n",
        "\n",
        "# Decide which device we want to run on\n",
        "device = torch.device(\"cuda:0\" if (torch.cuda.is_available() and ngpu > 0) else \"cpu\")"
      ],
      "execution_count": 0,
      "outputs": [
        {
          "output_type": "stream",
          "text": [
            "Downloading http://fashion-mnist.s3-website.eu-central-1.amazonaws.com/train-images-idx3-ubyte.gz to ../content/FashionMNIST/FashionMNIST/raw/train-images-idx3-ubyte.gz\n"
          ],
          "name": "stdout"
        },
        {
          "output_type": "display_data",
          "data": {
            "application/vnd.jupyter.widget-view+json": {
              "model_id": "597b3ebb10dc4bdb99c00b75c844136d",
              "version_minor": 0,
              "version_major": 2
            },
            "text/plain": [
              "HBox(children=(FloatProgress(value=1.0, bar_style='info', max=1.0), HTML(value='')))"
            ]
          },
          "metadata": {
            "tags": []
          }
        },
        {
          "output_type": "stream",
          "text": [
            "Extracting ../content/FashionMNIST/FashionMNIST/raw/train-images-idx3-ubyte.gz to ../content/FashionMNIST/FashionMNIST/raw\n",
            "Downloading http://fashion-mnist.s3-website.eu-central-1.amazonaws.com/train-labels-idx1-ubyte.gz to ../content/FashionMNIST/FashionMNIST/raw/train-labels-idx1-ubyte.gz\n"
          ],
          "name": "stdout"
        },
        {
          "output_type": "display_data",
          "data": {
            "application/vnd.jupyter.widget-view+json": {
              "model_id": "644e8db3fd0f448d923e57fe6d1b5868",
              "version_minor": 0,
              "version_major": 2
            },
            "text/plain": [
              "HBox(children=(FloatProgress(value=1.0, bar_style='info', max=1.0), HTML(value='')))"
            ]
          },
          "metadata": {
            "tags": []
          }
        },
        {
          "output_type": "stream",
          "text": [
            "Extracting ../content/FashionMNIST/FashionMNIST/raw/train-labels-idx1-ubyte.gz to ../content/FashionMNIST/FashionMNIST/raw\n",
            "Downloading http://fashion-mnist.s3-website.eu-central-1.amazonaws.com/t10k-images-idx3-ubyte.gz to ../content/FashionMNIST/FashionMNIST/raw/t10k-images-idx3-ubyte.gz\n"
          ],
          "name": "stdout"
        },
        {
          "output_type": "display_data",
          "data": {
            "application/vnd.jupyter.widget-view+json": {
              "model_id": "dd0986dbef1d4269807f147ea145cb52",
              "version_minor": 0,
              "version_major": 2
            },
            "text/plain": [
              "HBox(children=(FloatProgress(value=1.0, bar_style='info', max=1.0), HTML(value='')))"
            ]
          },
          "metadata": {
            "tags": []
          }
        },
        {
          "output_type": "stream",
          "text": [
            "Extracting ../content/FashionMNIST/FashionMNIST/raw/t10k-images-idx3-ubyte.gz to ../content/FashionMNIST/FashionMNIST/raw\n",
            "Downloading http://fashion-mnist.s3-website.eu-central-1.amazonaws.com/t10k-labels-idx1-ubyte.gz to ../content/FashionMNIST/FashionMNIST/raw/t10k-labels-idx1-ubyte.gz\n",
            "\n",
            "\n"
          ],
          "name": "stdout"
        },
        {
          "output_type": "display_data",
          "data": {
            "application/vnd.jupyter.widget-view+json": {
              "model_id": "82aa375bc515498a91d9a787682f1575",
              "version_minor": 0,
              "version_major": 2
            },
            "text/plain": [
              "HBox(children=(FloatProgress(value=1.0, bar_style='info', max=1.0), HTML(value='')))"
            ]
          },
          "metadata": {
            "tags": []
          }
        },
        {
          "output_type": "stream",
          "text": [
            "Extracting ../content/FashionMNIST/FashionMNIST/raw/t10k-labels-idx1-ubyte.gz to ../content/FashionMNIST/FashionMNIST/raw\n",
            "Processing...\n",
            "Done!\n"
          ],
          "name": "stdout"
        },
        {
          "output_type": "stream",
          "text": [
            "/pytorch/torch/csrc/utils/tensor_numpy.cpp:141: UserWarning: The given NumPy array is not writeable, and PyTorch does not support non-writeable tensors. This means you can write to the underlying (supposedly non-writeable) NumPy array using the tensor. You may want to copy the array to protect its data or make it writeable before converting it to a tensor. This type of warning will be suppressed for the rest of this program.\n"
          ],
          "name": "stderr"
        }
      ]
    },
    {
      "cell_type": "code",
      "metadata": {
        "id": "1IFt9Dw6gImn",
        "colab_type": "code",
        "outputId": "bbb4e34c-5a3c-439d-f8d7-e26812664fe9",
        "colab": {
          "base_uri": "https://localhost:8080/",
          "height": 499
        }
      },
      "source": [
        "# Plot some training images\n",
        "\n",
        "real_batch = next(iter(dataloader))\n",
        "plt.figure(figsize=(8,8))\n",
        "plt.axis(\"off\")\n",
        "plt.title(\"Training Images\")\n",
        "plt.imshow(np.transpose(vutils.make_grid(real_batch[0].to(device)[:64], padding=2, normalize=True).cpu(),(1,2,0)))"
      ],
      "execution_count": 0,
      "outputs": [
        {
          "output_type": "execute_result",
          "data": {
            "text/plain": [
              "<matplotlib.image.AxesImage at 0x7f7dd59d09e8>"
            ]
          },
          "metadata": {
            "tags": []
          },
          "execution_count": 9
        },
        {
          "output_type": "display_data",
          "data": {
            "image/png": "[encoded data removed]",
            "text/plain": [
              "<Figure size 576x576 with 1 Axes>"
            ]
          },
          "metadata": {
            "tags": [],
            "needs_background": "light"
          }
        }
      ]
    },
    {
      "cell_type": "markdown",
      "metadata": {
        "id": "WmLRvG-bXmyj",
        "colab_type": "text"
      },
      "source": [
        "**DCGAN**"
      ]
    },
    {
      "cell_type": "code",
      "metadata": {
        "id": "UH10g2XzCvje",
        "colab_type": "code",
        "colab": {}
      },
      "source": [
        "class Generator(torch.nn.Module):\n",
        "  def __init__(self):\n",
        "    super().__init__()\n",
        "    self.main = nn.Sequential(\n",
        "        nn.ConvTranspose2d(in_channels=100, out_channels=1024, kernel_size=4, stride=1, padding=0),\n",
        "        nn.BatchNorm2d(num_features=1024),\n",
        "        nn.ReLU(True),\n",
        "        nn.ConvTranspose2d(in_channels=1024, out_channels=512, kernel_size=4, stride=2, padding=1),\n",
        "        nn.BatchNorm2d(num_features=512),\n",
        "        nn.ReLU(True),\n",
        "        nn.ConvTranspose2d(in_channels=512, out_channels=256, kernel_size=4, stride=2, padding=1),\n",
        "        nn.BatchNorm2d(num_features=256),\n",
        "        nn.ReLU(True),\n",
        "        nn.ConvTranspose2d(in_channels=256, out_channels=1, kernel_size=4, stride=2, padding=1),\n",
        "        nn.Tanh()\n",
        "    )\n",
        "  \n",
        "  def forward(self, x):\n",
        "    return self.main(x)\n",
        "\n",
        "# Discriminator architecture with wgan flag. Since, in WGAN discriminator is used to compute the difference between real image and generate image\n",
        "# output is taken from linear layer instead of sigmoid layer\n",
        "\n",
        "class Discriminator(torch.nn.Module):\n",
        "  def __init__(self, wgan = False):\n",
        "    super().__init__()\n",
        "    self.main = nn.Sequential(\n",
        "        nn.Conv2d(in_channels=1, out_channels=256, kernel_size=4, stride=2, padding=1),\n",
        "        nn.LeakyReLU(0.2, inplace=True),\n",
        "        nn.Conv2d(in_channels=256, out_channels=512, kernel_size=4, stride=2, padding=1),\n",
        "        nn.BatchNorm2d(512),\n",
        "        nn.LeakyReLU(0.2, inplace=True),\n",
        "        nn.Conv2d(in_channels=512, out_channels=1024, kernel_size=4, stride=2, padding=1),\n",
        "        nn.BatchNorm2d(1024),\n",
        "        nn.LeakyReLU(0.2, inplace=True),        \n",
        "        nn.Conv2d(in_channels=1024, out_channels=1, kernel_size=4, stride=2, padding=0)\n",
        "    )\n",
        "    self.sigmoid = nn.Sigmoid()\n",
        "    self.wgan = wgan\n",
        "\n",
        "  def forward(self, x):\n",
        "    if self.wgan:\n",
        "      return self.main(x)\n",
        "    else:\n",
        "      return self.sigmoid(self.main(x))"
      ],
      "execution_count": 0,
      "outputs": []
    },
    {
      "cell_type": "code",
      "metadata": {
        "id": "pveD9dq8Gh3h",
        "colab_type": "code",
        "colab": {}
      },
      "source": [
        "# Pending - Add logger \n",
        "class dcgan_model(object):\n",
        "  def __init__(self, epochs, batch_size):\n",
        "    print('Model Initilization')\n",
        "    self.G = Generator().to(device)\n",
        "    self.D = Discriminator().to(device)\n",
        "    # binary cross entropy loss and optimizer\n",
        "    self.loss = nn.BCELoss()\n",
        "    self.d_optimizer = torch.optim.Adam(self.D.parameters(), lr = 0.0002, betas = (0.5, 0.999))\n",
        "    self.g_optimizer = torch.optim.Adam(self.G.parameters(), lr = 0.0002, betas = (0.5, 0.999))\n",
        "    self.epochs = epochs\n",
        "    self.batch_size = batch_size\n",
        "\n",
        "  def train(self, train_loader):\n",
        "    img_list = []\n",
        "    G_losses = []\n",
        "    D_losses = []\n",
        "    iters = 0\n",
        "    for epoch in range(self.epochs):\n",
        "      for i, (images, _) in enumerate(train_loader):\n",
        "        if i == train_loader.dataset.__len__() // self.batch_size:\n",
        "          break\n",
        "        \n",
        "        z = torch.randn(self.batch_size, 100, 1, 1, device = device)\n",
        "        real_labels = torch.ones(self.batch_size, device = device)\n",
        "        fake_labels = torch.zeros(self.batch_size, device = device)\n",
        "        images = images.to(device)\n",
        "\n",
        "        # Discriminator\n",
        "        self.D.zero_grad()\n",
        "        outputs = self.D(images).view(-1)\n",
        "        d_loss_real = self.loss(outputs, real_labels)\n",
        "        d_loss_real.backward()\n",
        "        real_score = outputs\n",
        "\n",
        "        fake_images = self.G(z)\n",
        "        outputs = self.D(fake_images.detach()).view(-1)\n",
        "        d_loss_fake = self.loss(outputs, fake_labels)\n",
        "        d_loss_fake.backward()\n",
        "        fake_score = outputs\n",
        "        \n",
        "        d_loss = d_loss_real + d_loss_fake\n",
        "        self.d_optimizer.step()\n",
        "        \n",
        "        # Generator\n",
        "        self.G.zero_grad()\n",
        "        outputs = self.D(fake_images).view(-1)\n",
        "        g_loss = self.loss(outputs, real_labels)\n",
        "        g_loss.backward()\n",
        "        self.g_optimizer.step()\n",
        "\n",
        "        if i % 50 == 0:\n",
        "            print('[%d/%d][%d/%d]\\tLoss_D: %.4f\\tLoss_G: %.4f\\t'\n",
        "                  % (epoch, self.epochs, i, len(dataloader),\n",
        "                     d_loss.item(), g_loss.item()))\n",
        "            \n",
        "        G_losses.append(g_loss.item())\n",
        "        D_losses.append(d_loss.item())\n",
        "        \n",
        "        if (iters % 500 == 0) or ((epoch == self.epochs-1) and (i == len(train_loader)-1)):\n",
        "            with torch.no_grad():\n",
        "                fake = self.G(z).detach().cpu()\n",
        "            img_list.append(vutils.make_grid(fake, padding=2, normalize=True))\n",
        "\n",
        "        iters += 1\n",
        "\n",
        "    return img_list, G_losses, D_losses\n",
        "\n",
        "\n",
        "  def evaluate(self):\n",
        "\n",
        "    z = torch.randn(self.batch_size, 100, 1, 1, device = device)\n",
        "    samples = self.G(z)\n",
        "    samples = samples.mul(0.5).add(0.5)\n",
        "    samples = samples.data.cpu()\n",
        "    grid = np.transpose(utils.make_grid(samples).cpu(),(1,2,0))\n",
        "    plt.figure(figsize=(8,8))\n",
        "    plt.imshow(grid)\n",
        "\n",
        "  def generate_latent_walk(self):\n",
        "    \n",
        "    number_int = 10\n",
        "    z_intp = torch.FloatTensor(1, 100, 1, 1).to(device)\n",
        "    z1 = torch.randn(1, 100, 1, 1, device = device)\n",
        "    z2 = torch.randn(1, 100, 1, 1, device = device)\n",
        "    images = []\n",
        "    alpha = 1.0/ float(number_int + 1)\n",
        "    print(alpha)\n",
        "    for i in range(1, number_int + 1):\n",
        "      z_intp.data = z1*alpha + z2*(1.0 - alpha)\n",
        "      alpha += alpha\n",
        "      fake_im = self.G(z_intp)\n",
        "      fake_im = fake_im.mul(0.5).add(0.5) \n",
        "      images.append(fake_im.view(1, 32, 32).data.cpu())\n",
        "    grid = np.transpose(utils.make_grid(images, nrow = number_int), (1,2,0))\n",
        "    plt.figure(figsize=(10,8))\n",
        "    plt.imshow(grid)\n",
        "    return grid"
      ],
      "execution_count": 0,
      "outputs": []
    },
    {
      "cell_type": "code",
      "metadata": {
        "id": "9TJ7uZ-RRRZj",
        "colab_type": "code",
        "outputId": "7ff5e98d-52d0-45f3-f9d7-eec5decf412b",
        "colab": {
          "base_uri": "https://localhost:8080/",
          "height": 1000
        }
      },
      "source": [
        "dcgan = dcgan_model(num_epochs, batch_size)\n",
        "img_list, g_loss, d_loss = dcgan.train(dataloader)"
      ],
      "execution_count": 0,
      "outputs": [
        {
          "output_type": "stream",
          "text": [
            "Model Initilization\n",
            "[0/5][0/938]\tLoss_D: 1.2571\tLoss_G: 7.9426\t\n",
            "[0/5][50/938]\tLoss_D: 0.0099\tLoss_G: 6.8118\t\n",
            "[0/5][100/938]\tLoss_D: 0.0368\tLoss_G: 4.7339\t\n",
            "[0/5][150/938]\tLoss_D: 0.0099\tLoss_G: 6.9090\t\n",
            "[0/5][200/938]\tLoss_D: 1.1888\tLoss_G: 3.4969\t\n",
            "[0/5][250/938]\tLoss_D: 0.4391\tLoss_G: 2.3275\t\n",
            "[0/5][300/938]\tLoss_D: 1.1780\tLoss_G: 1.1227\t\n",
            "[0/5][350/938]\tLoss_D: 0.9989\tLoss_G: 1.8708\t\n",
            "[0/5][400/938]\tLoss_D: 0.8459\tLoss_G: 2.4259\t\n",
            "[0/5][450/938]\tLoss_D: 1.1576\tLoss_G: 1.0902\t\n",
            "[0/5][500/938]\tLoss_D: 1.0767\tLoss_G: 1.0875\t\n",
            "[0/5][550/938]\tLoss_D: 1.1071\tLoss_G: 1.7080\t\n",
            "[0/5][600/938]\tLoss_D: 1.0555\tLoss_G: 2.1575\t\n",
            "[0/5][650/938]\tLoss_D: 1.1923\tLoss_G: 0.9563\t\n",
            "[0/5][700/938]\tLoss_D: 1.2036\tLoss_G: 0.9291\t\n",
            "[0/5][750/938]\tLoss_D: 1.2848\tLoss_G: 3.6128\t\n",
            "[0/5][800/938]\tLoss_D: 1.0954\tLoss_G: 1.2264\t\n",
            "[0/5][850/938]\tLoss_D: 0.9163\tLoss_G: 1.7959\t\n",
            "[0/5][900/938]\tLoss_D: 0.9020\tLoss_G: 1.6644\t\n",
            "[1/5][0/938]\tLoss_D: 1.0570\tLoss_G: 1.2586\t\n",
            "[1/5][50/938]\tLoss_D: 0.5054\tLoss_G: 1.6446\t\n",
            "[1/5][100/938]\tLoss_D: 0.4079\tLoss_G: 2.7194\t\n",
            "[1/5][150/938]\tLoss_D: 2.0070\tLoss_G: 2.4995\t\n",
            "[1/5][200/938]\tLoss_D: 1.1846\tLoss_G: 1.1814\t\n",
            "[1/5][250/938]\tLoss_D: 0.6851\tLoss_G: 2.1423\t\n",
            "[1/5][300/938]\tLoss_D: 0.5310\tLoss_G: 4.7520\t\n",
            "[1/5][350/938]\tLoss_D: 1.2007\tLoss_G: 3.6572\t\n",
            "[1/5][400/938]\tLoss_D: 0.8447\tLoss_G: 2.1394\t\n",
            "[1/5][450/938]\tLoss_D: 1.1634\tLoss_G: 3.3428\t\n",
            "[1/5][500/938]\tLoss_D: 1.1428\tLoss_G: 2.9928\t\n",
            "[1/5][550/938]\tLoss_D: 1.2753\tLoss_G: 3.0110\t\n",
            "[1/5][600/938]\tLoss_D: 0.5461\tLoss_G: 2.6208\t\n",
            "[1/5][650/938]\tLoss_D: 0.7374\tLoss_G: 3.8061\t\n",
            "[1/5][700/938]\tLoss_D: 0.3405\tLoss_G: 4.1055\t\n",
            "[1/5][750/938]\tLoss_D: 1.3343\tLoss_G: 1.5328\t\n",
            "[1/5][800/938]\tLoss_D: 0.6276\tLoss_G: 3.5061\t\n",
            "[1/5][850/938]\tLoss_D: 0.4374\tLoss_G: 3.3864\t\n",
            "[1/5][900/938]\tLoss_D: 0.7187\tLoss_G: 4.6119\t\n",
            "[2/5][0/938]\tLoss_D: 0.1551\tLoss_G: 4.1083\t\n",
            "[2/5][50/938]\tLoss_D: 0.0901\tLoss_G: 3.8593\t\n",
            "[2/5][100/938]\tLoss_D: 0.6123\tLoss_G: 2.0585\t\n",
            "[2/5][150/938]\tLoss_D: 0.3787\tLoss_G: 3.9455\t\n",
            "[2/5][200/938]\tLoss_D: 0.0267\tLoss_G: 4.8852\t\n",
            "[2/5][250/938]\tLoss_D: 0.7348\tLoss_G: 2.8718\t\n",
            "[2/5][300/938]\tLoss_D: 0.5975\tLoss_G: 2.1007\t\n",
            "[2/5][350/938]\tLoss_D: 1.1548\tLoss_G: 4.3993\t\n",
            "[2/5][400/938]\tLoss_D: 0.0586\tLoss_G: 3.9595\t\n",
            "[2/5][450/938]\tLoss_D: 0.0493\tLoss_G: 4.1916\t\n",
            "[2/5][500/938]\tLoss_D: 0.0415\tLoss_G: 4.1859\t\n",
            "[2/5][550/938]\tLoss_D: 0.0216\tLoss_G: 5.0581\t\n",
            "[2/5][600/938]\tLoss_D: 0.0165\tLoss_G: 5.6188\t\n",
            "[2/5][650/938]\tLoss_D: 0.0229\tLoss_G: 4.8210\t\n",
            "[2/5][700/938]\tLoss_D: 0.0208\tLoss_G: 5.0167\t\n",
            "[2/5][750/938]\tLoss_D: 0.8440\tLoss_G: 1.8041\t\n",
            "[2/5][800/938]\tLoss_D: 0.8475\tLoss_G: 3.2873\t\n",
            "[2/5][850/938]\tLoss_D: 0.8723\tLoss_G: 4.4803\t\n",
            "[2/5][900/938]\tLoss_D: 0.7247\tLoss_G: 1.7729\t\n",
            "[3/5][0/938]\tLoss_D: 1.2884\tLoss_G: 2.2204\t\n",
            "[3/5][50/938]\tLoss_D: 0.5944\tLoss_G: 3.8315\t\n",
            "[3/5][100/938]\tLoss_D: 0.0559\tLoss_G: 4.3211\t\n",
            "[3/5][150/938]\tLoss_D: 0.0177\tLoss_G: 5.2044\t\n",
            "[3/5][200/938]\tLoss_D: 0.0191\tLoss_G: 5.1821\t\n",
            "[3/5][250/938]\tLoss_D: 0.8323\tLoss_G: 4.2510\t\n",
            "[3/5][300/938]\tLoss_D: 0.6299\tLoss_G: 2.5300\t\n",
            "[3/5][350/938]\tLoss_D: 0.8944\tLoss_G: 3.5210\t\n",
            "[3/5][400/938]\tLoss_D: 0.9606\tLoss_G: 0.9706\t\n",
            "[3/5][450/938]\tLoss_D: 0.4328\tLoss_G: 3.1598\t\n",
            "[3/5][500/938]\tLoss_D: 0.0273\tLoss_G: 4.9695\t\n",
            "[3/5][550/938]\tLoss_D: 0.0075\tLoss_G: 6.7806\t\n",
            "[3/5][600/938]\tLoss_D: 0.0209\tLoss_G: 8.6165\t\n",
            "[3/5][650/938]\tLoss_D: 0.0119\tLoss_G: 8.0747\t\n",
            "[3/5][700/938]\tLoss_D: 0.5469\tLoss_G: 3.5109\t\n",
            "[3/5][750/938]\tLoss_D: 0.7685\tLoss_G: 4.9677\t\n",
            "[3/5][800/938]\tLoss_D: 0.4603\tLoss_G: 2.0067\t\n",
            "[3/5][850/938]\tLoss_D: 0.4318\tLoss_G: 2.6915\t\n",
            "[3/5][900/938]\tLoss_D: 1.0946\tLoss_G: 6.2348\t\n",
            "[4/5][0/938]\tLoss_D: 0.1394\tLoss_G: 4.0919\t\n",
            "[4/5][50/938]\tLoss_D: 0.0321\tLoss_G: 4.6349\t\n",
            "[4/5][100/938]\tLoss_D: 0.0139\tLoss_G: 5.9544\t\n",
            "[4/5][150/938]\tLoss_D: 0.0058\tLoss_G: 6.7873\t\n",
            "[4/5][200/938]\tLoss_D: 0.0058\tLoss_G: 6.3215\t\n",
            "[4/5][250/938]\tLoss_D: 0.0124\tLoss_G: 6.6187\t\n",
            "[4/5][300/938]\tLoss_D: 0.4509\tLoss_G: 2.2481\t\n",
            "[4/5][350/938]\tLoss_D: 0.6356\tLoss_G: 3.1712\t\n",
            "[4/5][400/938]\tLoss_D: 0.8580\tLoss_G: 3.7163\t\n",
            "[4/5][450/938]\tLoss_D: 0.0382\tLoss_G: 4.8866\t\n",
            "[4/5][500/938]\tLoss_D: 0.6368\tLoss_G: 3.1394\t\n",
            "[4/5][550/938]\tLoss_D: 1.4854\tLoss_G: 5.9408\t\n",
            "[4/5][600/938]\tLoss_D: 0.5895\tLoss_G: 1.7747\t\n",
            "[4/5][650/938]\tLoss_D: 0.1322\tLoss_G: 4.1540\t\n",
            "[4/5][700/938]\tLoss_D: 0.0305\tLoss_G: 5.2532\t\n",
            "[4/5][750/938]\tLoss_D: 0.0125\tLoss_G: 5.7126\t\n",
            "[4/5][800/938]\tLoss_D: 0.0192\tLoss_G: 6.5045\t\n",
            "[4/5][850/938]\tLoss_D: 0.0031\tLoss_G: 7.7431\t\n",
            "[4/5][900/938]\tLoss_D: 0.1150\tLoss_G: 5.4760\t\n"
          ],
          "name": "stdout"
        }
      ]
    },
    {
      "cell_type": "code",
      "metadata": {
        "id": "xVjD1BMKFPqb",
        "colab_type": "code",
        "outputId": "fd28c607-f443-464d-bc14-4f2164e56832",
        "colab": {
          "base_uri": "https://localhost:8080/",
          "height": 127
        }
      },
      "source": [
        "lw = dcgan.generate_latent_walk()"
      ],
      "execution_count": 0,
      "outputs": [
        {
          "output_type": "stream",
          "text": [
            "0.09090909090909091\n"
          ],
          "name": "stdout"
        },
        {
          "output_type": "display_data",
          "data": {
            "image/png": "[encoded data removed]",
            "text/plain": [
              "<Figure size 720x576 with 1 Axes>"
            ]
          },
          "metadata": {
            "tags": [],
            "needs_background": "light"
          }
        }
      ]
    },
    {
      "cell_type": "code",
      "metadata": {
        "id": "Jg58P6TSRCxw",
        "colab_type": "code",
        "outputId": "0a109215-038f-4e8d-c963-c88170973ca3",
        "colab": {
          "base_uri": "https://localhost:8080/",
          "height": 483
        }
      },
      "source": [
        "plt.figure(figsize = (12, 8))\n",
        "plt.plot(g_loss, label = 'G',)\n",
        "plt.plot(d_loss, label = 'D')\n",
        "plt.legend(loc='upper left')\n",
        "plt.show()"
      ],
      "execution_count": 0,
      "outputs": [
        {
          "output_type": "display_data",
          "data": {
            "image/png": "[encoded data removed]",
            "text/plain": [
              "<Figure size 864x576 with 1 Axes>"
            ]
          },
          "metadata": {
            "tags": [],
            "needs_background": "light"
          }
        }
      ]
    },
    {
      "cell_type": "markdown",
      "metadata": {
        "id": "Z7FoRl1yXhsy",
        "colab_type": "text"
      },
      "source": [
        "**WGAN**"
      ]
    },
    {
      "cell_type": "code",
      "metadata": {
        "id": "klcuM6eYvL3V",
        "colab_type": "code",
        "colab": {}
      },
      "source": [
        "class wgan_cp(object):\n",
        "  def __init__(self, batch_size, generator_iters):\n",
        "    print('Model Initilization')\n",
        "    device = torch.device(\"cuda:0\" if (torch.cuda.is_available() and ngpu > 0) else \"cpu\")\n",
        "    self.G = Generator().to(device)\n",
        "    self.D = Discriminator(wgan=True).to(device)\n",
        "    self.learning_rate = 0.00005\n",
        "    self.batch_size = batch_size\n",
        "    self.weight_cliping_limit = 0.01\n",
        "    self.d_optimizer = torch.optim.RMSprop(self.D.parameters(), lr = self.learning_rate)\n",
        "    self.g_optimizer = torch.optim.RMSprop(self.G.parameters(), lr = self.learning_rate)\n",
        "    self.critic_iter = 5\n",
        "    self.generator_iters = generator_iters \n",
        "\n",
        "  def train(self, train_loader):\n",
        "    \n",
        "    w_distance = []\n",
        "    loss_d = []\n",
        "    loss_g = []\n",
        "    loss_d_real = []\n",
        "    loss_d_fake = []\n",
        "\n",
        "    self.data = self.get_infinite_batches(train_loader)\n",
        "    one = torch.FloatTensor([1])\n",
        "    mone = one * -1\n",
        "    one = one.cuda()\n",
        "    mone = mone.cuda()\n",
        "\n",
        "    for g_iter in range(self.generator_iters):\n",
        "      for p in self.D.parameters():\n",
        "        p.requires_grad = True\n",
        "      \n",
        "      # Discriminator\n",
        "      for d_iter in range(self.critic_iter):\n",
        "        self.D.zero_grad()\n",
        "        for p in self.D.parameters():\n",
        "          p.data.clamp_(-self.weight_cliping_limit, self.weight_cliping_limit)\n",
        "\n",
        "        images = self.data.__next__().to(device)\n",
        "        if images.size()[0] != self.batch_size:\n",
        "          continue\n",
        "        z = torch.randn(self.batch_size, 100, 1, 1, device = device)\n",
        "\n",
        "        d_loss_real = self.D(images)\n",
        "        d_loss_real = d_loss_real.mean(0).view(1)\n",
        "        d_loss_real.backward(one)\n",
        "\n",
        "        z = Variable(torch.randn(self.batch_size, 100, 1, 1)).cuda()\n",
        "        fake_images = self.G(z)\n",
        "        d_loss_fake = self.D(fake_images)\n",
        "        d_loss_fake = d_loss_fake.mean(0).view(1)\n",
        "        d_loss_fake.backward(mone)\n",
        "\n",
        "        d_loss = d_loss_fake - d_loss_real\n",
        "        Wasserstein_D = d_loss_real - d_loss_fake\n",
        "        self.d_optimizer.step()\n",
        "\n",
        "      for p in self.D.parameters():\n",
        "        p.requires_grad = False\n",
        "\n",
        "      self.G.zero_grad()\n",
        "      z = torch.randn(self.batch_size, 100, 1, 1, device = device)\n",
        "      fake_images = self.G(z)\n",
        "      g_loss = self.D(fake_images)\n",
        "      g_loss = g_loss.mean(0).view(1)\n",
        "      g_loss.backward(one)\n",
        "      g_cost = -g_loss\n",
        "      self.g_optimizer.step()\n",
        "      if (g_iter) % 1000 == 1:\n",
        "        \n",
        "        # Denormalize images and save them in grid 8x8\n",
        "        z = torch.randn(800, 100, 1, 1, device = device)\n",
        "        samples = self.G(z)\n",
        "        samples = samples.mul(0.5).add(0.5)\n",
        "        samples = samples.data.cpu()[:64]\n",
        "        grid = np.transpose(utils.make_grid(samples).cpu(),(1,2,0))\n",
        "        plt.imshow(grid)\n",
        "\n",
        "        print('Generator: {}, W-distance: {}, Loss D: {},, Loss G: {},\\\n",
        "             Loss D Real: {}, Loss D Fake: {}'.format(g_iter, Wasserstein_D.data[0], d_loss.data[0],\\\n",
        "                                                      g_cost.data[0], d_loss_real.data[0], d_loss_fake.data[0]))\n",
        "        w_distance.append(Wasserstein_D.data[0])\n",
        "        loss_d.append(d_loss.data[0])\n",
        "        loss_g.append(g_cost.data[0])\n",
        "        loss_d_real.append(d_loss_real.data[0])\n",
        "        loss_d_fake.append(d_loss_fake.data[0])\n",
        "    \n",
        "    return w_distance, loss_d, loss_g, loss_d_real, loss_d_fake\n",
        "\n",
        "  def evaluate(self):\n",
        "    z = torch.randn(self.batch_size, 100, 1, 1, device = device)\n",
        "    samples = self.G(z)\n",
        "    samples = samples.mul(0.5).add(0.5)\n",
        "    samples = samples.data.cpu()\n",
        "    grid = np.transpose(utils.make_grid(samples).cpu(),(1,2,0))\n",
        "    plt.imshow(grid)\n",
        "\n",
        "  def get_infinite_batches(self, data_loader):\n",
        "    while True:\n",
        "      for i, (images, _) in enumerate(data_loader):\n",
        "        yield images"
      ],
      "execution_count": 0,
      "outputs": []
    },
    {
      "cell_type": "code",
      "metadata": {
        "id": "OSUSxunj2LXz",
        "colab_type": "code",
        "colab": {}
      },
      "source": [
        "wgan = wgan_cp(batch_size, 40000)\n",
        "w_distance, loss_d, loss_g, loss_d_real, loss_d_fake = wgan.train(dataloader)"
      ],
      "execution_count": 0,
      "outputs": []
    },
    {
      "cell_type": "code",
      "metadata": {
        "id": "TW33AEiSL2pf",
        "colab_type": "code",
        "colab": {}
      },
      "source": [
        ""
      ],
      "execution_count": 0,
      "outputs": []
    }
  ]
}