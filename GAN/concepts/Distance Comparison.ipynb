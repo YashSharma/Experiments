{
 "cells": [
  {
   "cell_type": "code",
   "execution_count": 1,
   "metadata": {},
   "outputs": [],
   "source": [
    "import numpy as np\n",
    "from scipy.stats import wasserstein_distance\n",
    "from scipy.special import kl_div"
   ]
  },
  {
   "cell_type": "code",
   "execution_count": 2,
   "metadata": {},
   "outputs": [],
   "source": [
    "p = [[0, 1], [0.5, 0.5]]\n",
    "q = [[0, 1], [0.75, 0.25]]\n",
    "r = [[0, 1], [0.25, 0.75]]"
   ]
  },
  {
   "cell_type": "code",
   "execution_count": 23,
   "metadata": {},
   "outputs": [
    {
     "data": {
      "text/plain": [
       "0.5493061443340548"
      ]
     },
     "execution_count": 23,
     "metadata": {},
     "output_type": "execute_result"
    }
   ],
   "source": [
    "(0.75 * np.log(0.75) - 0.75 * np.log(0.25)) + (0.25 * np.log(0.25) - 0.25 * np.log(0.75))"
   ]
  },
  {
   "cell_type": "code",
   "execution_count": 3,
   "metadata": {},
   "outputs": [
    {
     "name": "stdout",
     "output_type": "stream",
     "text": [
      "0.14384103622589045\n",
      "0.25\n"
     ]
    }
   ],
   "source": [
    "print(np.sum(kl_div(p[1], q[1])))\n",
    "print(wasserstein_distance(p[0], q[0], p[1], q[1]))"
   ]
  },
  {
   "cell_type": "code",
   "execution_count": 4,
   "metadata": {},
   "outputs": [
    {
     "name": "stdout",
     "output_type": "stream",
     "text": [
      "0.13081203594113694\n",
      "0.25\n"
     ]
    }
   ],
   "source": [
    "print(np.sum(kl_div(q[1], p[1])))\n",
    "print(wasserstein_distance(q[0], p[0], q[1], p[1]))"
   ]
  },
  {
   "cell_type": "code",
   "execution_count": 5,
   "metadata": {},
   "outputs": [
    {
     "name": "stdout",
     "output_type": "stream",
     "text": [
      "0.0\n",
      "0.0\n"
     ]
    }
   ],
   "source": [
    "print(np.sum(kl_div(p[1], p[1])))\n",
    "print(wasserstein_distance(p[0], p[0], p[1], p[1]))"
   ]
  },
  {
   "cell_type": "code",
   "execution_count": 6,
   "metadata": {},
   "outputs": [
    {
     "name": "stdout",
     "output_type": "stream",
     "text": [
      "0.14384103622589045\n",
      "0.25\n"
     ]
    }
   ],
   "source": [
    "print(np.sum(kl_div(p[1], r[1])))\n",
    "print(wasserstein_distance(p[0], r[0], p[1], r[1]))"
   ]
  },
  {
   "cell_type": "code",
   "execution_count": 7,
   "metadata": {},
   "outputs": [
    {
     "name": "stdout",
     "output_type": "stream",
     "text": [
      "0.5493061443340548\n",
      "0.5\n"
     ]
    }
   ],
   "source": [
    "print(np.sum(kl_div(q[1], r[1])))\n",
    "print(wasserstein_distance(q[0], r[0], q[1], r[1]))"
   ]
  },
  {
   "cell_type": "code",
   "execution_count": 8,
   "metadata": {},
   "outputs": [],
   "source": [
    "p = [[0, 1, 2], [0.5, 0.5, 0]]\n",
    "q = [[0, 1, 2], [.33, 0.33, 0.33]]"
   ]
  },
  {
   "cell_type": "code",
   "execution_count": 9,
   "metadata": {},
   "outputs": [
    {
     "name": "stdout",
     "output_type": "stream",
     "text": [
      "0.4055154439616658\n",
      "0.4999999999999999\n"
     ]
    }
   ],
   "source": [
    "print(np.sum(kl_div(p[1], q[1])))\n",
    "print(wasserstein_distance(p[0], q[0], p[1], q[1]))"
   ]
  },
  {
   "cell_type": "code",
   "execution_count": 10,
   "metadata": {},
   "outputs": [
    {
     "name": "stdout",
     "output_type": "stream",
     "text": [
      "inf\n",
      "0.4999999999999999\n"
     ]
    }
   ],
   "source": [
    "print(np.sum(kl_div(q[1], p[1])))\n",
    "print(wasserstein_distance(q[0], p[0], q[1], p[1]))"
   ]
  },
  {
   "cell_type": "code",
   "execution_count": 11,
   "metadata": {},
   "outputs": [],
   "source": [
    "r = [[0, 1, 2, 3], [0.5, 0.5, 0, 0]]\n",
    "s = [[0, 1, 2, 3], [0, 0, 0.5, 0.5]]"
   ]
  },
  {
   "cell_type": "code",
   "execution_count": 12,
   "metadata": {},
   "outputs": [
    {
     "name": "stdout",
     "output_type": "stream",
     "text": [
      "inf\n",
      "2.0\n"
     ]
    }
   ],
   "source": [
    "print(np.sum(kl_div(r[1], s[1])))\n",
    "print(wasserstein_distance(r[0], s[0], r[1], s[1]))"
   ]
  },
  {
   "cell_type": "code",
   "execution_count": 13,
   "metadata": {},
   "outputs": [],
   "source": [
    "p = [[0, 1, 2], [0.25, 0.75, 0]]\n",
    "q = [[0, 1, 2], [0, 0.75, 0.25]]\n",
    "r = [[0, 1, 2], [0, 0.25, 0.75]]\n",
    "s = [[0, 1, 2, 3], [0, 0, 0.25, 0.75]]"
   ]
  },
  {
   "cell_type": "code",
   "execution_count": 14,
   "metadata": {},
   "outputs": [
    {
     "name": "stdout",
     "output_type": "stream",
     "text": [
      "0.5\n"
     ]
    }
   ],
   "source": [
    "print(wasserstein_distance(p[0], q[0], p[1], q[1]))"
   ]
  },
  {
   "cell_type": "code",
   "execution_count": 15,
   "metadata": {},
   "outputs": [
    {
     "name": "stdout",
     "output_type": "stream",
     "text": [
      "1.0\n"
     ]
    }
   ],
   "source": [
    "print(wasserstein_distance(p[0], r[0], p[1], r[1]))"
   ]
  },
  {
   "cell_type": "code",
   "execution_count": 16,
   "metadata": {},
   "outputs": [
    {
     "name": "stdout",
     "output_type": "stream",
     "text": [
      "0.5\n"
     ]
    }
   ],
   "source": [
    "print(wasserstein_distance(q[0], r[0], q[1], r[1]))"
   ]
  },
  {
   "cell_type": "code",
   "execution_count": 17,
   "metadata": {},
   "outputs": [
    {
     "name": "stdout",
     "output_type": "stream",
     "text": [
      "2.0\n"
     ]
    }
   ],
   "source": [
    "print(wasserstein_distance(p[0], s[0], p[1], s[1]))"
   ]
  },
  {
   "cell_type": "code",
   "execution_count": 18,
   "metadata": {},
   "outputs": [
    {
     "name": "stdout",
     "output_type": "stream",
     "text": [
      "1.0\n"
     ]
    }
   ],
   "source": [
    "print(wasserstein_distance(r[0], s[0], r[1], s[1]))"
   ]
  },
  {
   "cell_type": "code",
   "execution_count": null,
   "metadata": {},
   "outputs": [],
   "source": []
  }
 ],
 "metadata": {
  "kernelspec": {
   "display_name": "Python 3",
   "language": "python",
   "name": "python3"
  },
  "language_info": {
   "codemirror_mode": {
    "name": "ipython",
    "version": 3
   },
   "file_extension": ".py",
   "mimetype": "text/x-python",
   "name": "python",
   "nbconvert_exporter": "python",
   "pygments_lexer": "ipython3",
   "version": "3.7.6"
  }
 },
 "nbformat": 4,
 "nbformat_minor": 4
}
